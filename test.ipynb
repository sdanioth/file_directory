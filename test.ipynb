{
 "cells": [
  {
   "cell_type": "code",
   "execution_count": 7,
   "metadata": {},
   "outputs": [],
   "source": [
    "import os\n",
    "import shutil\n",
    "import datetime\n",
    "from datetime import datetime\n",
    "import re #regex\n",
    "import yaml\n",
    "import csv\n",
    "from csv import DictReader\n",
    "import sys"
   ]
  },
  {
   "cell_type": "code",
   "execution_count": 8,
   "metadata": {},
   "outputs": [
    {
     "name": "stdout",
     "output_type": "stream",
     "text": [
      "/home/zue/users/sdanioth/My Documents/Praktikum/git/file_directory/config.yaml\n"
     ]
    }
   ],
   "source": [
    "config = os.path.join(os.getcwd(), 'config.yaml')\n",
    "print(config)\n",
    "\n",
    "with open(os.path.abspath(config), \"r\") as f:\n",
    "    config = yaml.safe_load(f)\n",
    "    f.close()"
   ]
  },
  {
   "cell_type": "code",
   "execution_count": 10,
   "metadata": {},
   "outputs": [],
   "source": [
    "source = os.path.expanduser(config['sourceTest'])\n",
    "general_dir = config['generalPathTest']\n"
   ]
  },
  {
   "cell_type": "code",
   "execution_count": 11,
   "metadata": {},
   "outputs": [],
   "source": [
    "with open(source, \"r\") as read_obj:\n",
    "\n",
    "    csv_reader = DictReader(read_obj)\n",
    "\n",
    "    for row in csv_reader:\n",
    "        # all files in directory\n",
    "        files = os.listdir(general_dir+row[\"file_path\"])\n",
    "\n",
    "        for file in files:\n",
    "\n",
    "            if file.startswith(row[\"file_start\"]) and file.endswith(row[\"file_end\"]):\n",
    "                # extract date from filename\n",
    "                date_string = re.search(r\"\\d{4}\\d{2}\\d{2}\", file)[0]\n",
    "                date = datetime.strptime(date_string, \"%Y%m%d\")\n",
    "\n",
    "                year = str(date.year)\n",
    "                month = str(date.month)\n",
    "                day = str(date.day)\n",
    "\n",
    "                dir = general_dir+row[\"file_path\"]\n",
    "                dir_yearly = dir+year\n",
    "                dir_monthly = dir_yearly+\"/\"+month\n",
    "                dir_daily = dir_monthly+\"/\"+day\n",
    "\n",
    "\n",
    "                if row[\"division\"] == \"daily\":\n",
    "                    if not os.path.exists(dir_daily):\n",
    "                        os.makedirs(dir_daily)\n",
    "\n",
    "                    shutil.move(dir+file,dir_daily+\"/\"+file)\n",
    "\n",
    "                elif row[\"division\"] == \"monthly\":\n",
    "                    if not os.path.exists(dir_monthly):\n",
    "                        os.makedirs(dir_monthly)\n",
    "\n",
    "                    shutil.move(dir+file, dir_monthly+\"/\"+file)\n",
    "\n",
    "                elif row[\"division\"] == \"yearly\":\n",
    "                    if not os.path.exists(dir_yearly):\n",
    "                        os.makedirs(dir_yearly)\n",
    "\n",
    "                    shutil.move(dir+file, dir_yearly+\"/\"+file)"
   ]
  }
 ],
 "metadata": {
  "kernelspec": {
   "display_name": "Python 3",
   "language": "python",
   "name": "python3"
  },
  "language_info": {
   "codemirror_mode": {
    "name": "ipython",
    "version": 3
   },
   "file_extension": ".py",
   "mimetype": "text/x-python",
   "name": "python",
   "nbconvert_exporter": "python",
   "pygments_lexer": "ipython3",
   "version": "3.8.10"
  },
  "orig_nbformat": 4
 },
 "nbformat": 4,
 "nbformat_minor": 2
}
